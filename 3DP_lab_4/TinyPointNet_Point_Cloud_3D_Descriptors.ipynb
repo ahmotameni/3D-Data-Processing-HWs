{
  "cells": [
    {
      "cell_type": "markdown",
      "metadata": {
        "id": "-pfA1XNq2RnI"
      },
      "source": [
        "# 3D Data Processing\n",
        "\n",
        "---\n",
        "A.A. 2022/2023 - Dr. Daniel Fusaro\n",
        "---\n",
        "\n",
        "\n",
        "## Lab - TinyPointNet: Point Cloud 3D Descriptors\n",
        "\n",
        "original paper -\n",
        "[PointNet: Deep Learning on Point Sets for 3D Classification and Segmentation](https://web.stanford.edu/~rqi/pointnet/)\n",
        "\n",
        "dataset link: https://drive.google.com/drive/folders/1IweJGcOeOZN3wY79i2jFt3JE1bd7G51Z?usp=share_link\n",
        "\n",
        "To add a link to the dataset in your Google Drive main folder, you need to:\n",
        "\n",
        " - Click on the link\n",
        " - Right click on \"dataset\"\n",
        " - Click Add shortcut to Drive\n",
        "\n",
        "When you will mount your drive folder in Colab you will find this folder without the need of re-uploading it."
      ]
    },
    {
      "cell_type": "markdown",
      "metadata": {
        "id": "B6D7f56lGQYP"
      },
      "source": [
        "# Install/import required packages"
      ]
    },
    {
      "cell_type": "code",
      "execution_count": null,
      "metadata": {
        "id": "hc7eaUqkcmAz"
      },
      "outputs": [],
      "source": [
        "# useful for visualization\n",
        "## PLEASE NOTE : it may be necessary to restart the notebook environment after installation\n",
        "!pip install open3d"
      ]
    },
    {
      "cell_type": "code",
      "execution_count": null,
      "metadata": {
        "id": "qSyKEXWMmI2Y"
      },
      "outputs": [],
      "source": [
        "import numpy as np\n",
        "import random\n",
        "import math\n",
        "import time\n",
        "import copy\n",
        "import os\n",
        "import glob\n",
        "\n",
        "import matplotlib.pyplot as plt\n",
        "\n",
        "# pyTorch imports\n",
        "import torch\n",
        "import torch.nn as nn\n",
        "import torch.nn.functional as F\n",
        "from torch.utils.data import Dataset, DataLoader\n",
        "\n",
        "# a nice training progress bar\n",
        "from tqdm import tqdm, trange\n",
        "\n",
        "# visualization\n",
        "import open3d as o3d\n",
        "\n",
        "running_on_colab = True\n",
        "\n",
        "if running_on_colab:\n",
        "  import plotly.graph_objects as go\n",
        "\n"
      ]
    },
    {
      "cell_type": "markdown",
      "metadata": {
        "id": "DuR9palyGqil"
      },
      "source": [
        "# Connect and mount your Google Drive"
      ]
    },
    {
      "cell_type": "code",
      "execution_count": null,
      "metadata": {
        "id": "Wjgl1d34-CWw"
      },
      "outputs": [],
      "source": [
        "if running_on_colab:\n",
        "    from google.colab import drive\n",
        "    drive_path = '/content/drive'\n",
        "    drive.mount(drive_path)"
      ]
    },
    {
      "cell_type": "markdown",
      "metadata": {
        "id": "hK1CJSoJGvi7"
      },
      "source": [
        "# General Parameters"
      ]
    },
    {
      "cell_type": "code",
      "execution_count": null,
      "metadata": {
        "id": "1LWQSdhp3CiT"
      },
      "outputs": [],
      "source": [
        "dataset_path_train = os.path.join(drive_path, \"MyDrive\", \"3dshapes\", \"train\")\n",
        "dataset_path_valid = os.path.join(drive_path, \"MyDrive\", \"3dshapes\", \"valid\")\n",
        "dataset_path_test = os.path.join(drive_path,  \"MyDrive\", \"3dshapes\", \"test\")"
      ]
    },
    {
      "cell_type": "markdown",
      "metadata": {
        "id": "VWcO-JoNzH17"
      },
      "source": [
        "# Visualization Example\n",
        "In order to visualize colored point clouds we make use of the Python package *Open3D*.\n",
        "\n",
        "Unfortunately, the original doesn't run on Colab.\n",
        "So, we replace the drawing function with a custom one (*draw_geometries*) that allows for rendering here on Colab.\n",
        "\n"
      ]
    },
    {
      "cell_type": "code",
      "execution_count": null,
      "metadata": {
        "id": "9ceZKVwpfdG0"
      },
      "outputs": [],
      "source": [
        "if running_on_colab:\n",
        "    def draw_geometries(geometries):\n",
        "        graph_objects = []\n",
        "\n",
        "        for geometry in geometries:\n",
        "            geometry_type = geometry.get_geometry_type()\n",
        "\n",
        "            if geometry_type == o3d.geometry.Geometry.Type.PointCloud:\n",
        "                points = np.asarray(geometry.points)\n",
        "                colors = None\n",
        "                if geometry.has_colors():\n",
        "                    colors = np.asarray(geometry.colors)\n",
        "                elif geometry.has_normals():\n",
        "                    colors = (0.5, 0.5, 0.5) + np.asarray(geometry.normals) * 0.5\n",
        "                else:\n",
        "                    geometry.paint_uniform_color((1.0, 0.0, 0.0))\n",
        "                    colors = np.asarray(geometry.colors)\n",
        "\n",
        "                scatter_3d = go.Scatter3d(x=points[:,0], y=points[:,1], z=points[:,2], mode='markers', marker=dict(size=1, color=colors))\n",
        "                graph_objects.append(scatter_3d)\n",
        "\n",
        "            if geometry_type == o3d.geometry.Geometry.Type.TriangleMesh:\n",
        "                triangles = np.asarray(geometry.triangles)\n",
        "                vertices = np.asarray(geometry.vertices)\n",
        "                colors = None\n",
        "                if geometry.has_triangle_normals():\n",
        "                    colors = (0.5, 0.5, 0.5) + np.asarray(geometry.triangle_normals) * 0.5\n",
        "                    colors = tuple(map(tuple, colors))\n",
        "                else:\n",
        "                    colors = (1.0, 0.0, 0.0)\n",
        "\n",
        "                mesh_3d = go.Mesh3d(x=vertices[:,0], y=vertices[:,1], z=vertices[:,2], i=triangles[:,0], j=triangles[:,1], k=triangles[:,2], facecolor=colors, opacity=0.50)\n",
        "                graph_objects.append(mesh_3d)\n",
        "\n",
        "        fig = go.Figure(\n",
        "            data=graph_objects,\n",
        "            layout=dict(\n",
        "                scene=dict(\n",
        "                    xaxis=dict(visible=False),\n",
        "                    yaxis=dict(visible=False),\n",
        "                    zaxis=dict(visible=False),\n",
        "                    aspectmode='data'\n",
        "                )\n",
        "            )\n",
        "        )\n",
        "        fig.show()"
      ]
    },
    {
      "cell_type": "code",
      "execution_count": null,
      "metadata": {
        "id": "ywtBnEqw10u3"
      },
      "outputs": [],
      "source": [
        "if running_on_colab:\n",
        "    o3d.visualization.draw_geometries = draw_geometries\n",
        "\n",
        "anchor_color   = [0, 0, 1.0] # blue\n",
        "positive_color = [0, 1.0, 0] # green\n",
        "negative_color = [1.0, 0, 0] # red\n",
        "p_colors = [anchor_color, positive_color, negative_color]\n",
        "\n",
        "def visualize( pointcloud:np.array =None,\n",
        "               anchor    :np.array =None,\n",
        "               positive  :np.array =None,\n",
        "               negative  :np.array =None,\n",
        "               radius    :np.array =None ):\n",
        "    \"\"\"\n",
        "    INPUT\n",
        "      pointcloud : numpy array of 3D points\n",
        "      anchor     : anchor point\n",
        "      positive   : \n",
        "      negative   : \n",
        "    \"\"\"\n",
        "    \n",
        "    geoms = []\n",
        "    if pointcloud is not None:\n",
        "        pcd = o3d.geometry.PointCloud()\n",
        "        ### PLEASE NOTE: we downsample the point cloud to avoid heavy rendering\n",
        "        pcd.points = o3d.utility.Vector3dVector(np.random.permutation(pointcloud)[:3000])\n",
        "        pcd.paint_uniform_color([0.6, 0.6, 0.6])\n",
        "        geoms.append(pcd)\n",
        "    for point, color in zip([anchor, positive, negative], p_colors):\n",
        "        if point is not None:\n",
        "            assert radius is not None\n",
        "            sphere = o3d.geometry.TriangleMesh.create_sphere(radius=radius, resolution=20)\n",
        "            sphere.translate(point)\n",
        "            sphere = sphere.sample_points_uniformly(20000)\n",
        "            sphere_pc = o3d.geometry.PointCloud()\n",
        "            sphere_pc.points = o3d.utility.Vector3dVector(sphere.points)\n",
        "            sphere_pc.paint_uniform_color(color)\n",
        "            geoms.append(sphere_pc)\n",
        "    # visualize the colored point cloud\n",
        "    o3d.visualization.draw_geometries(geoms)"
      ]
    },
    {
      "cell_type": "markdown",
      "metadata": {
        "id": "dLp113kezNBG"
      },
      "source": [
        "# PointCloud Dataset\n",
        "\n",
        "`torch.utils.data.Dataset` is an abstract class representing a dataset. Your custom dataset should inherit `Dataset` and override the following methods:\n",
        "\n",
        "* `__init__` to initialize your dataset. For example, if your dataset fits in memory, you can load the entire dataset in a list, or you can just store the list of dataset files.\n",
        "* `__len__` so that len(dataset) returns the size of the dataset.\n",
        "* `__getitem__` to support indexing such that `dataset[i]` can be used to get  the i-th sample\n",
        "\n",
        "Therefore, the structure of the class is:\n",
        "\n",
        "```\n",
        "class CustomDataset(Dataset):\n",
        "\n",
        "    def __init__(self, init_parameters):\n",
        "        self.param1 = param1\n",
        "        [...]\n",
        "\n",
        "    def __len__(self):\n",
        "        [...]\n",
        "\n",
        "    def __getitem__(self, idx):\n",
        "        [...]\n",
        "\n",
        "        return sample[idx]\n",
        "```\n"
      ]
    },
    {
      "cell_type": "code",
      "execution_count": null,
      "metadata": {
        "id": "C2NuVvQCweUS"
      },
      "outputs": [],
      "source": [
        "class PointCloudData(Dataset):\n",
        "    def __init__(self, \n",
        "                dataset_path: str,\n",
        "                samples_per_epoch: int,\n",
        "                points_to_sample:int = 200000,\n",
        "                radius:float =2*10.0e-3,\n",
        "                min_dist=15.0e-3,\n",
        "                N = 750,\n",
        "                noise_mean=0,\n",
        "                noise_variance = 6e-5):\n",
        "      \n",
        "        self.radius = radius\n",
        "        self.min_dist = min_dist\n",
        "        self.N = N\n",
        "        self.samples_per_epoch = samples_per_epoch\n",
        "        self.points_to_sample = points_to_sample\n",
        "        self.noise_mean = noise_mean\n",
        "        self.noise_variance = noise_variance\n",
        "        \n",
        "        # _n means noised version\n",
        "        self.mesh = []\n",
        "        self.pcds, self.pcds_n = [], []\n",
        "        self.KDtrees, self.KDtrees_n = [], []\n",
        "        \n",
        "        \n",
        "        for file in glob.glob(dataset_path + \"/*.ply\"):\n",
        "            print(\"parsing file\", file)\n",
        "            mesh = o3d.io.read_triangle_mesh(file)\n",
        "            pcd1 = mesh.sample_points_uniformly(self.points_to_sample)\n",
        "            pcd1_tree = o3d.geometry.KDTreeFlann(pcd1)\n",
        "            \n",
        "            pcd2 = self.apply_noise(mesh.sample_points_uniformly(self.points_to_sample), self.noise_mean, self.noise_variance)\n",
        "            pcd2_tree = o3d.geometry.KDTreeFlann(pcd2)\n",
        "            \n",
        "            self.mesh.append(mesh)\n",
        "            \n",
        "            self.pcds.append(np.asarray(pcd1.points))\n",
        "            self.pcds_n.append(np.asarray(pcd2.points))\n",
        "            \n",
        "            self.KDtrees.append(pcd1_tree)\n",
        "            self.KDtrees_n.append(pcd2_tree)\n",
        "    \n",
        "    # function to apply noise\n",
        "    def apply_noise(self, pcd, mu, sigma):\n",
        "        noisy_pcd = copy.deepcopy(pcd)\n",
        "        points = np.asarray(noisy_pcd.points)\n",
        "        points += np.random.normal(mu, sigma, size=points.shape)\n",
        "        noisy_pcd.points = o3d.utility.Vector3dVector(points)\n",
        "        return noisy_pcd\n",
        "\n",
        "    def __len__(self):\n",
        "        return self.samples_per_epoch\n",
        "\n",
        "    def __getitem__(self, _):\n",
        "      while True:\n",
        "        mesh_idx = np.random.randint(0, len(self.mesh))\n",
        "        \n",
        "        pcd1_points = self.pcds[mesh_idx]\n",
        "        pcd2_points = self.pcds_n[mesh_idx]\n",
        "        \n",
        "        ################# START #################\n",
        "        ############# COMPLETE HERE #############\n",
        "        # ANCHOR: select a random anchor point pt1\n",
        "        # find neighborhood of pt1\n",
        "        \n",
        "        # POSITIVE: find corresponding point in pdc2\n",
        "        # find neighborhood of pt2\n",
        "        \n",
        "        # NEGATIVE: find far point (at least at distance min_dist)\n",
        "        # find neighborhood of neg_pt\n",
        "\n",
        "        # get points\n",
        "        \n",
        "        # normalize points\n",
        "\n",
        "        ################# END #################\n",
        "\n",
        "        ## apply a rotation to a point set to improve the generalization capability\n",
        "        ## apply a random rotation to positive point set\n",
        "        xyz = np.random.rand(3) * 2 * np.pi\n",
        "        pcd = o3d.geometry.PointCloud()\n",
        "        pcd.points = o3d.utility.Vector3dVector(point_set2)\n",
        "        Rpos = pcd.get_rotation_matrix_from_xyz((xyz[0], xyz[1], xyz[2]))\n",
        "        pcd.rotate(Rpos, center=(0, 0, 0))\n",
        "        point_set2 = np.asarray(pcd.points)\n",
        "\n",
        "        ## apply a random rotation to negative point set\n",
        "        xyz = np.random.rand(3) * 2 * np.pi\n",
        "        pcd = o3d.geometry.PointCloud()\n",
        "        pcd.points = o3d.utility.Vector3dVector(point_set3)\n",
        "        Rneg = pcd.get_rotation_matrix_from_xyz((xyz[0], xyz[1], xyz[2]))\n",
        "        pcd.rotate(Rneg, center=(0, 0, 0))\n",
        "        point_set3 = np.asarray(pcd.points)\n",
        "        \n",
        "        # copy points coordinates to a fixed dimension np.array\n",
        "        pc1 = np.zeros((self.N, 3), dtype=np.float32)\n",
        "        pc2 = np.zeros((self.N, 3), dtype=np.float32)\n",
        "        pc3 = np.zeros((self.N, 3), dtype=np.float32)\n",
        "        \n",
        "        pc1[:min(self.N, point_set1.shape[0]), :] = point_set1[:min(self.N, point_set1.shape[0]), :]\n",
        "        pc2[:min(self.N, point_set2.shape[0]), :] = point_set2[:min(self.N, point_set2.shape[0]), :]\n",
        "        pc3[:min(self.N, point_set3.shape[0]), :] = point_set3[:min(self.N, point_set3.shape[0]), :]\n",
        "    \n",
        "        # transform\n",
        "        torch_point_set1  = torch.from_numpy(pc1)\n",
        "        torch_point_set2  = torch.from_numpy(pc2)\n",
        "        torch_point_set3  = torch.from_numpy(pc3)\n",
        "        \n",
        "        return mesh_idx, torch_point_set1, torch_point_set2, torch_point_set3, pt1, pt2, neg_pt"
      ]
    },
    {
      "cell_type": "markdown",
      "metadata": {
        "id": "ABoR7ciUCrq_"
      },
      "source": [
        "# Dataset Creation\n",
        "\n",
        "Now we can instantiate our training and test dataset objects."
      ]
    },
    {
      "cell_type": "code",
      "execution_count": null,
      "metadata": {
        "id": "mq_sC59txbQF"
      },
      "outputs": [],
      "source": [
        "train_ds  = PointCloudData(dataset_path_train, samples_per_epoch=500)\n",
        "valid_ds  = PointCloudData(dataset_path_valid, samples_per_epoch=500)\n",
        "test_ds   = PointCloudData(dataset_path_test,  samples_per_epoch=500)"
      ]
    },
    {
      "cell_type": "markdown",
      "metadata": {
        "id": "kC5c_b1quNFT"
      },
      "source": [
        "Creating a `Dataset` class may seem unnecessary for the most basic problems. But it really helps when the dataset and the training procedure start to get more complex.\n",
        "\n",
        "One of the most useful benefit of defining a `Dataset` class is the possiblity to use the PyTorch `Dataloader` module.\n",
        "\n",
        "By operating on the dataset directly, we are losing out on a lot of features by using a simple for loop to iterate over the data. In particular, we are missing out on:\n",
        "\n",
        "* Batching the data\n",
        "* Shuffling the data\n",
        "* Load the data in parallel using multiprocessing workers.\n",
        "\n",
        "`torch.utils.data.DataLoader` is an iterator which provides all these features. Parameters used below should be clear."
      ]
    },
    {
      "cell_type": "code",
      "execution_count": null,
      "metadata": {
        "id": "lX2pNbMhxm0N"
      },
      "outputs": [],
      "source": [
        "# warning: batch_size needs to be at least 2\n",
        "train_loader  = DataLoader( dataset=train_ds,  batch_size=50, shuffle=True  )\n",
        "valid_loader  = DataLoader( dataset=valid_ds,  batch_size=50, shuffle=False )\n",
        "test_loader   = DataLoader( dataset=test_ds,   batch_size=50,  shuffle=False )"
      ]
    },
    {
      "cell_type": "markdown",
      "metadata": {
        "id": "7IzNMJKK10u4"
      },
      "source": [
        "# Visualize some data"
      ]
    },
    {
      "cell_type": "code",
      "execution_count": null,
      "metadata": {
        "id": "yPswsKFl10u4"
      },
      "outputs": [],
      "source": [
        "ds = train_ds\n",
        "\n",
        "for (mesh_idx, _, _, _, anchor, positive, negative) in ds:\n",
        "    idx = mesh_idx\n",
        "    visualize(ds.pcds[idx],\n",
        "              anchor = anchor, \n",
        "              positive = positive,\n",
        "              negative = negative,\n",
        "              radius=ds.radius)\n",
        "    break\n",
        "    "
      ]
    },
    {
      "cell_type": "markdown",
      "metadata": {
        "id": "BPtnhEyuy9ks"
      },
      "source": [
        "# Network Definition"
      ]
    },
    {
      "cell_type": "markdown",
      "metadata": {
        "id": "1HjszmGzub9M"
      },
      "source": [
        "## Network Base Module\n",
        "\n",
        "A network is defined by extending the *torch.nn.module* class. The basic structure is:\n",
        "\n",
        "```\n",
        "class Net(nn.Module):\n",
        "    \n",
        "    def __init__(self, input_parameters):\n",
        "        super().__init__() # This executes the parent __init__ method\n",
        "        [...]\n",
        "\n",
        "    def forward(self, x, optional_parameters):\n",
        "        [...]\n",
        "        return out # return the output of the network\n",
        "```\n",
        "\n",
        "You need to define two methods:\n",
        "*   **\\_\\_init\\_\\_**: The constructor method. This is exectuted when the object is initialized (no need to call it explicitly). Here you have to instantiate all the network's parameters. PyTorch provides utility functions to easily initialize most of the commonly used deep learning layers.\n",
        "*   **forward**: Here you define the forward pass of the network, from the input *x* to the output (the method must return the network output). You just need to define the forward part, the back-propagation is automatically tracked by the framework!"
      ]
    },
    {
      "cell_type": "code",
      "execution_count": null,
      "metadata": {
        "id": "HpMGFh5_bj5I"
      },
      "outputs": [],
      "source": [
        "# Multi Layer Perceptron\n",
        "class MLP(nn.Module):\n",
        "    def __init__(self, input_size, output_size):\n",
        "        super().__init__()\n",
        "        self.input_size   = input_size\n",
        "        self.output_size  = output_size\n",
        "        self.conv  = nn.Conv1d(self.input_size, self.output_size, 1)\n",
        "        self.bn    = nn.BatchNorm1d(self.output_size)\n",
        "\n",
        "    def forward(self, input):\n",
        "        return F.relu(self.bn(self.conv(input)))\n",
        "\n",
        "# Fully Connected with Batch Normalization\n",
        "class FC_BN(nn.Module):\n",
        "    def __init__(self, input_size, output_size):\n",
        "        super().__init__()\n",
        "        self.input_size   = input_size\n",
        "        self.output_size  = output_size\n",
        "        self.lin  = nn.Linear(self.input_size, self.output_size)\n",
        "        self.bn    = nn.BatchNorm1d(self.output_size)\n",
        "\n",
        "    def forward(self, input):\n",
        "        return F.relu(self.bn(self.lin(input)))\n",
        "\n",
        "class TNet(nn.Module):\n",
        "    def __init__(self, k=3):\n",
        "        super().__init__()\n",
        "        self.k=k\n",
        "\n",
        "        self.mlp1 = MLP(self.k, 64)\n",
        "        self.mlp2 = MLP(64, 128)\n",
        "        self.mlp3 = MLP(128, 1024)\n",
        "\n",
        "        self.fc_bn1 = FC_BN(1024, 512)\n",
        "        self.fc_bn2 = FC_BN(512,256)\n",
        "\n",
        "        self.fc3 = nn.Linear(256,k*k)\n",
        "    \n",
        "\n",
        "    def forward(self, input):\n",
        "        # input.shape == (batch_size,n,3)\n",
        "\n",
        "        bs = input.size(0)\n",
        "        xb = self.mlp1(input)\n",
        "        xb = self.mlp2(xb)\n",
        "        xb = self.mlp3(xb)\n",
        "\n",
        "        pool = nn.MaxPool1d(xb.size(-1))(xb)\n",
        "        flat = nn.Flatten(1)(pool)\n",
        "\n",
        "        xb = self.fc_bn1(flat)\n",
        "        xb = self.fc_bn2(xb)\n",
        "\n",
        "        #initialize as identity\n",
        "        init = torch.eye(self.k, requires_grad=True).repeat(bs,1,1)\n",
        "        if xb.is_cuda:\n",
        "            init=init.cuda()\n",
        "        matrix = self.fc3(xb).view(-1,self.k,self.k) + init\n",
        "        return matrix"
      ]
    },
    {
      "cell_type": "code",
      "execution_count": null,
      "metadata": {
        "id": "mEQ4Zx5WoLDx"
      },
      "outputs": [],
      "source": [
        "class TinyPointNet(nn.Module):\n",
        "    def __init__(self):\n",
        "        super().__init__()\n",
        "        self.input_transform   = TNet(k=3)\n",
        "        \n",
        "        ############# START ###########\n",
        "        ######### COMPLETE HERE #######\n",
        "        ############# END #############\n",
        "\n",
        "    def forward(self, input):\n",
        "        n_pts = input.size()[2]\n",
        "        matrix3x3 = self.input_transform(input)\n",
        "        input_transform_output = torch.bmm(torch.transpose(input,1,2), matrix3x3).transpose(1,2)\n",
        "\n",
        "        ############# START ###########\n",
        "        ######### COMPLETE HERE #######\n",
        "        ############# END #############\n",
        "\n",
        "        # output need to be:\n",
        "        #   global_feature: torch.Tensor \n",
        "\n",
        "        return global_feature\n"
      ]
    },
    {
      "cell_type": "markdown",
      "metadata": {
        "id": "P38WBTtMyFeC"
      },
      "source": [
        "# Training loop"
      ]
    },
    {
      "cell_type": "code",
      "execution_count": null,
      "metadata": {
        "colab": {
          "base_uri": "https://localhost:8080/"
        },
        "id": "vIlTUpNPyBdK",
        "outputId": "4a57ccd2-c6a4-406b-e0dc-8ae4ec869a6d"
      },
      "outputs": [
        {
          "output_type": "stream",
          "name": "stdout",
          "text": [
            "cuda:0\n"
          ]
        }
      ],
      "source": [
        "device = torch.device(\"cuda:0\" if torch.cuda.is_available() else \"cpu\")\n",
        "print(device)"
      ]
    },
    {
      "cell_type": "code",
      "execution_count": null,
      "metadata": {
        "id": "uWSroT5TyDnt"
      },
      "outputs": [],
      "source": [
        "tinypointnet = TinyPointNet()\n",
        "tinypointnet.to(device);"
      ]
    },
    {
      "cell_type": "code",
      "execution_count": null,
      "metadata": {
        "id": "wqwUjESLyKv3"
      },
      "outputs": [],
      "source": [
        "optimizer = torch.optim.Adam(tinypointnet.parameters(), lr=0.005)"
      ]
    },
    {
      "cell_type": "code",
      "execution_count": null,
      "metadata": {
        "id": "CAf8UGcPazjx"
      },
      "outputs": [],
      "source": [
        "def train(model, train_loader, valid_loader=None,  epochs=45, save=True):\n",
        "    best_valid_loss = 1e10\n",
        "    ############## START #############\n",
        "    ####### COMPLETE THIS PART: put the correct loss function #######\n",
        "    # tinypointnetloss = \n",
        "    ############## END ###############\n",
        "    \n",
        "    # these lists keep track of the losses across epochs\n",
        "    train_losses, valid_losses = [], []\n",
        "    \n",
        "    for epoch in range(epochs):\n",
        "        # local list of losses\n",
        "        train_loss, valid_loss = [], []\n",
        "        \n",
        "        # train \n",
        "        tinypointnet.train()\n",
        "        \n",
        "        pbar = tqdm(train_loader, leave=False)\n",
        "        \n",
        "        for (_, anchor, positive, negative, _, _, _) in pbar:\n",
        "            pbar.set_description(f\"train - epoch {epoch} - \")\n",
        "            \n",
        "            # retrieve anchors, positives and negatives batch\n",
        "            anchor   =   anchor.to(device).float().transpose(1,2)\n",
        "            positive = positive.to(device).float().transpose(1,2)\n",
        "            negative = negative.to(device).float().transpose(1,2)\n",
        "\n",
        "            optimizer.zero_grad()\n",
        "            \n",
        "            # let PointNetTiny model compute the descriptors\n",
        "            anchor_desc   = tinypointnet(anchor)\n",
        "            positive_desc = tinypointnet(positive)\n",
        "            negative_desc = tinypointnet(negative)\n",
        "            \n",
        "            # compute the loss associated to these descriptors\n",
        "            loss = tinypointnetloss(anchor_desc, positive_desc, negative_desc)\n",
        "            \n",
        "            # Backpropagate the gradient\n",
        "            loss.backward()\n",
        "            optimizer.step()\n",
        "            \n",
        "            # Keep track of the statistics            \n",
        "            curr_loss = loss.item()\n",
        "            train_loss.append(curr_loss)\n",
        "            pbar.set_postfix(loss=curr_loss)\n",
        "        \n",
        "        train_loss = np.asarray(train_loss).mean()\n",
        "        print(f'epoch {epoch} - train loss:', train_loss)\n",
        "        train_losses.append(train_loss)\n",
        "\n",
        "        # validation\n",
        "        tinypointnet.eval()\n",
        "        pbar = tqdm(valid_loader, leave=False)\n",
        "        \n",
        "        with torch.no_grad():\n",
        "            for (_, anchor, positive, negative, _, _, _) in pbar:\n",
        "                pbar.set_description(f\"valid - epoch {epoch}\")\n",
        "                \n",
        "                anchor   =   anchor.to(device).float().transpose(1,2)\n",
        "                positive = positive.to(device).float().transpose(1,2)\n",
        "                negative = negative.to(device).float().transpose(1,2)\n",
        "                \n",
        "                anchor_desc   = tinypointnet(anchor)\n",
        "                positive_desc = tinypointnet(positive)\n",
        "                negative_desc = tinypointnet(negative)\n",
        "                loss = tinypointnetloss(anchor_desc, positive_desc, negative_desc)\n",
        "                curr_loss = loss.item()\n",
        "                \n",
        "                valid_loss.append(curr_loss)\n",
        "                \n",
        "                pbar.set_postfix(loss=curr_loss)\n",
        "        \n",
        "        valid_loss = np.asarray(valid_loss).mean()\n",
        "        print(f'epoch {epoch} - valid loss:', valid_loss)\n",
        "        valid_losses.append(valid_loss)        \n",
        "\n",
        "        # save the model\n",
        "        if save and valid_loss < best_valid_loss:\n",
        "            best_valid_loss = valid_loss\n",
        "            path = os.path.join(drive_path, \"MyDrive\", \"tinypointnetmodel.yml\")\n",
        "            print(\"best_valid_loss:\", best_valid_loss, \"saving model at\", path)\n",
        "            torch.save(tinypointnet.state_dict(), path)\n",
        "    return train_losses, valid_losses\n",
        "        "
      ]
    },
    {
      "cell_type": "code",
      "execution_count": null,
      "metadata": {
        "id": "pCioSo6kyU5M"
      },
      "outputs": [],
      "source": [
        "train_losses, valid_losses = train(tinypointnet, train_loader, valid_loader, save=True)"
      ]
    },
    {
      "cell_type": "markdown",
      "metadata": {
        "id": "AxxvdXzn10u5"
      },
      "source": [
        "## Visualize the Training trend"
      ]
    },
    {
      "cell_type": "code",
      "execution_count": null,
      "metadata": {
        "id": "22ECIGIZ10u6"
      },
      "outputs": [],
      "source": [
        "def numpy_ewma_vectorized_v2(data, window=10):\n",
        "    # Return the Exponentially Weighted Moving Average\n",
        "    # for better visualizing the \"trend\" of the metrics\n",
        "\n",
        "    alpha = 2 /(window + 1.0)\n",
        "    alpha_rev = 1-alpha\n",
        "    n = data.shape[0]\n",
        "\n",
        "    pows = alpha_rev**(np.arange(n+1))\n",
        "\n",
        "    scale_arr = 1/pows[:-1]\n",
        "    offset = data[0]*pows[1:]\n",
        "    pw0 = alpha*alpha_rev**(n-1)\n",
        "\n",
        "    mult = data*pw0*scale_arr\n",
        "    cumsums = mult.cumsum()\n",
        "    out = offset + cumsums*scale_arr[::-1]\n",
        "    return out"
      ]
    },
    {
      "cell_type": "markdown",
      "metadata": {
        "id": "u2PDOXU710u6"
      },
      "source": [
        "### Plot the trend of train and valid losses\n",
        "By using an Exponentially Weighted Moving Average of the losses,\n",
        "we can better understand the behaviour of our network by filtering out\n",
        "the noisy *local values* and focusing more on the *global trend*."
      ]
    },
    {
      "cell_type": "code",
      "execution_count": null,
      "metadata": {
        "colab": {
          "base_uri": "https://localhost:8080/",
          "height": 449
        },
        "id": "3PIDERVU10u6",
        "outputId": "7d9329a7-555c-4016-b9f9-97f3f0558d97"
      },
      "outputs": [
        {
          "data": {
            "text/plain": [
              "<matplotlib.legend.Legend at 0x7fd502737820>"
            ]
          },
          "execution_count": 50,
          "metadata": {},
          "output_type": "execute_result"
        },
        {
          "data": {
            "image/png": "[encoded data removed]",
            "text/plain": [
              "<Figure size 640x480 with 1 Axes>"
            ]
          },
          "metadata": {},
          "output_type": "display_data"
        }
      ],
      "source": [
        "plt.plot(train_losses, label=\"train losses\", color='r', alpha=0.2)\n",
        "plt.plot(valid_losses, label=\"valid losses\", color='b', alpha=0.2)\n",
        "plt.plot(numpy_ewma_vectorized_v2(np.array(train_losses)), label=\"train losses EMA\", color='r')\n",
        "plt.plot(numpy_ewma_vectorized_v2(np.array(valid_losses)), label=\"valid losses EMA\", color='b')\n",
        "plt.legend()"
      ]
    },
    {
      "cell_type": "markdown",
      "metadata": {
        "id": "irrVJH1UJb92"
      },
      "source": [
        "# Test: feature matching\n",
        "\n",
        "We will test the performance of the trained model by verifying its ability to match very similar key points.\n",
        "\n",
        "We will use a mesh from the test set, we will add noise to it, and pick N keypoints from the original one. By taking the _true_ nearest neighbor of each keypoint in the noised point cloud version of the mesh, we will compute the descriptors of both the original keypoints and the nearest neighbor keypoints.\n",
        "\n",
        "The model will have a true match in describing a keypoint if the L2 norm between the descriptor of a keypoint in the original cloud and the descriptor of the keypoint having the minimum L2 norm with respect to our input keypoint is less than the radius used to compute the nearest neighbors points.\n",
        "\n",
        "In other words, lets say that we have an input keypoint $p_i$.\n",
        "Let $d_i$ be its descriptor, calculated by the model, such that $d_i = f(p_i)$.\n",
        "\n",
        "Let $P'$ be the set of all the keypoints in the perturbed cloud.\n",
        "If we say that $p'^* = arg\\,min_{p' \\in P'} ||d_i - f(p')||_2$ is the keypoint in the perturbed cloud having the descriptor with the lowest distance from $d_i$, then if \n",
        "\n",
        "$||p_i - p'^*||_2 < r$\n",
        "\n",
        "with $r$ being the radius used to extract nearest neighbors for descriptor computing, we say that we have a True match.\n",
        "\n"
      ]
    },
    {
      "cell_type": "code",
      "execution_count": null,
      "metadata": {
        "id": "-IqRQrxg10u6"
      },
      "outputs": [],
      "source": [
        "# First we need to load the best model weights\n",
        "path = os.path.join(drive_path, \"MyDrive\", \"tinypointnetmodel.yml\")\n",
        "tinypointnet = TinyPointNet()\n",
        "tinypointnet.load_state_dict(torch.load(path))\n",
        "tinypointnet.to(device)"
      ]
    },
    {
      "cell_type": "markdown",
      "source": [],
      "metadata": {
        "id": "R_hqn5AQk_0G"
      }
    },
    {
      "cell_type": "code",
      "execution_count": null,
      "metadata": {
        "id": "fyTBgf2T10u6"
      },
      "outputs": [],
      "source": [
        "points_to_sample = test_ds.points_to_sample\n",
        "radius=test_ds.radius\n",
        "min_dist=test_ds.min_dist\n",
        "N = test_ds.N\n",
        "noise_mean=test_ds.noise_mean\n",
        "noise_variance = test_ds.noise_variance"
      ]
    },
    {
      "cell_type": "markdown",
      "source": [
        "Now we do the following:\n",
        " - compute the set of keypoints in the original mesh\n",
        " - find the Nearest Neighbor to each of the original keypoints in the perturbed cloud"
      ],
      "metadata": {
        "id": "qux1geypX3gT"
      }
    },
    {
      "cell_type": "code",
      "execution_count": null,
      "metadata": {
        "id": "PI4YkY6Od2PH"
      },
      "outputs": [],
      "source": [
        "mesh = mesh = test_ds.mesh[0]\n",
        "\n",
        "pcd1 = mesh.sample_points_uniformly(points_to_sample)\n",
        "pcd2 = train_ds.apply_noise(mesh.sample_points_uniformly(points_to_sample), noise_mean, noise_variance)\n",
        "\n",
        "pcd1_points = np.asarray(pcd1.points)\n",
        "pcd2_points = np.asarray(pcd2.points)\n",
        "\n",
        "keypoints = o3d.geometry.keypoint.compute_iss_keypoints(pcd1,\n",
        "                                                        salient_radius=0.005,\n",
        "                                                        non_max_radius=0.005,\n",
        "                                                        gamma_21=0.4,\n",
        "                                                        gamma_32=0.5)\n",
        "pcd1_points_sampled = np.random.permutation(np.asarray(keypoints.points))[:100]\n",
        "pcd2_tree = o3d.geometry.KDTreeFlann(pcd2)\n",
        "\n",
        "pcd2_points_sampled = []\n",
        "for i in tqdm(range(pcd1_points_sampled.shape[0])):\n",
        "  pt = pcd1_points_sampled[i]\n",
        "\n",
        "  k2, idx2, _ = pcd2_tree.search_knn_vector_3d(pt, 1)\n",
        "  pt2 = pcd2_points[idx2].squeeze()\n",
        "  pcd2_points_sampled.append(pt2)\n",
        "\n",
        "pcd2_points_sampled = np.asarray(pcd2_points_sampled)"
      ]
    },
    {
      "cell_type": "markdown",
      "source": [
        "### Let's visualize a pair original keypoint - perturbed keypoint"
      ],
      "metadata": {
        "id": "BnR01qKDYAPC"
      }
    },
    {
      "cell_type": "code",
      "execution_count": null,
      "metadata": {
        "id": "OZ0luk0GgzuW"
      },
      "outputs": [],
      "source": [
        "idx = 0\n",
        "visualize(pcd1_points,\n",
        "          anchor = pcd1_points_sampled[idx], \n",
        "          positive = pcd2_points_sampled[idx],\n",
        "          radius=test_ds.radius)"
      ]
    },
    {
      "cell_type": "markdown",
      "source": [
        "### Let's compute the descriptors of each keypoint"
      ],
      "metadata": {
        "id": "DBTjAaKEYXMg"
      }
    },
    {
      "cell_type": "code",
      "execution_count": null,
      "metadata": {
        "id": "d3jBS-ev10u6"
      },
      "outputs": [],
      "source": [
        "\n",
        "tinypointnet.eval()\n",
        "\n",
        "def compute_feats(pcd, pcd_points, pcd_points_sampled):\n",
        "    pcd_tree = o3d.geometry.KDTreeFlann(pcd)\n",
        "    feats = np.zeros((pcd_points_sampled.shape[0], 256), dtype=np.float32)\n",
        "\n",
        "    pts = []\n",
        "    \n",
        "    for i in tqdm(range(pcd_points_sampled.shape[0])):\n",
        "        pt = pcd_points_sampled[i]\n",
        "        k, idx, _ = pcd_tree.search_radius_vector_3d(pt, radius)\n",
        "\n",
        "        pts.append(pt)\n",
        "\n",
        "        point_set = pcd_points[idx]\n",
        "        point_set = (point_set - pt)\n",
        "\n",
        "        pc = np.zeros((N, 3), dtype=np.float32)\n",
        "        pc[:min(N, point_set.shape[0]), :] = point_set[:min(N, point_set.shape[0]), :]\n",
        "\n",
        "        # transform\n",
        "        anchor  = torch.from_numpy(pc).unsqueeze(0)\n",
        "\n",
        "        anchor = anchor.to(device).float()\n",
        "        anchor_desc   = tinypointnet(anchor.transpose(1,2))[0, :, 0]\n",
        "        feats[i, :] = anchor_desc.cpu().detach().numpy()\n",
        "    return feats, pts\n",
        "\n",
        "feats_1, pts1 = compute_feats(pcd1, pcd1_points, pcd1_points_sampled)\n",
        "feats_2, pts2 = compute_feats(pcd2, pcd2_points, pcd2_points_sampled)\n"
      ]
    },
    {
      "cell_type": "markdown",
      "source": [
        "### Test time! Let's associate the descriptors with respect to their L2 norm"
      ],
      "metadata": {
        "id": "cQuTjHPfYcSS"
      }
    },
    {
      "cell_type": "code",
      "execution_count": null,
      "metadata": {
        "id": "gHpVv5SMAqf3"
      },
      "outputs": [],
      "source": [
        "pcd2 = o3d.geometry.PointCloud()\n",
        "pcd2.points = o3d.utility.Vector3dVector(pcd2_points_sampled)\n",
        "\n",
        "pcd2_tree = o3d.geometry.KDTreeFlann(pcd2)\n",
        "\n",
        "correct = tot = 0\n",
        "\n",
        "for row in tqdm(range(pcd1_points_sampled.shape[0])):\n",
        "  feat1 = feats_1[row, :]\n",
        "  dists = []\n",
        "  anchor = pts1[row]\n",
        "\n",
        "  k2, idx2, _ = pcd2_tree.search_knn_vector_3d(anchor, 1)\n",
        "  true_near_pt = pcd2_points_sampled[idx2].squeeze()\n",
        "\n",
        "  for row2 in range(pcd2_points_sampled.shape[0]):\n",
        "    feat2 = feats_2[row2, :]\n",
        "    dist = np.linalg.norm(feat1 - feat2)\n",
        "    dists.append(dist)\n",
        "\n",
        "  dists = np.asarray(dists)\n",
        "  min_row = np.argmin(dists)\n",
        "\n",
        "  pred_pt = pcd2_points_sampled[min_row].squeeze()\n",
        "\n",
        "  dist = np.linalg.norm(true_near_pt - pcd2_points_sampled[min_row].squeeze())\n",
        "\n",
        "  # visualize(pcd1_points,\n",
        "  #           anchor = anchor, \n",
        "  #           positive = pred_pt,\n",
        "  #           radius=ds.radius)\n",
        "\n",
        "  if dist<radius:\n",
        "    correct += 1\n",
        "  tot += 1\n",
        "\n",
        "print()\n",
        "print(f\"accuracy: {correct*100/tot:6.3f}%\")\n",
        "\n"
      ]
    }
  ],
  "metadata": {
    "accelerator": "GPU",
    "colab": {
      "provenance": []
    },
    "kernelspec": {
      "display_name": "Python 3 (ipykernel)",
      "language": "python",
      "name": "python3"
    },
    "language_info": {
      "codemirror_mode": {
        "name": "ipython",
        "version": 3
      },
      "file_extension": ".py",
      "mimetype": "text/x-python",
      "name": "python",
      "nbconvert_exporter": "python",
      "pygments_lexer": "ipython3",
      "version": "3.8.10"
    }
  },
  "nbformat": 4,
  "nbformat_minor": 0
}